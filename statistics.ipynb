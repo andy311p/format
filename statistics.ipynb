{
  "nbformat": 4,
  "nbformat_minor": 0,
  "metadata": {
    "colab": {
      "provenance": [],
      "authorship_tag": "ABX9TyN/uqIvrw30D6BbtgRGxzH8",
      "include_colab_link": true
    },
    "kernelspec": {
      "name": "python3",
      "display_name": "Python 3"
    },
    "language_info": {
      "name": "python"
    }
  },
  "cells": [
    {
      "cell_type": "markdown",
      "metadata": {
        "id": "view-in-github",
        "colab_type": "text"
      },
      "source": [
        "<a href=\"https://colab.research.google.com/github/andy311p/format/blob/master/statistics.ipynb\" target=\"_parent\"><img src=\"https://colab.research.google.com/assets/colab-badge.svg\" alt=\"Open In Colab\"/></a>"
      ]
    },
    {
      "cell_type": "markdown",
      "source": [
        "A simulation of two competing companies\n",
        "One of the best ways to evaluate the efficacy of a statistical approach is to perform a Monte Carlo simulation on synthetic data.\n",
        "\n",
        "So, let’s simulate a company that makes decisions based on the mean competing against a company that makes decisions based on the median.\n",
        "\n",
        "A *relatively* simple business decision we can simulate is an A/B test. In an A/B test, a company faces the decision of releasing two different versions (variants) of a product — A and B.\n",
        "\n",
        "For simplicity, we will simulate this as a “winner take all” test, meaning that the companies choose the variant that appears better from the test without calculating statistical significance. **This approach is reasonable when there is no control group, and the business question is relatively low risk.**\n",
        "\n",
        "Before releasing variant A or B to the entire customer base, the company tests variant A with a sample of customers and variant B with a different sample of customers.\n",
        "\n",
        "Based on the performance of variants A and B in the test, the company chooses to release either variant A or variant B to the entire customer base.\n",
        "\n",
        "Here is a summary of the setup. On each simulation:\n",
        "\n",
        "1.   We will randomly generate two skewed distributions. These distributions represent the true distributions for the revenue per user for variants A and B.\n",
        "2.   To decide which variant to release, the companies will analyze a dataset consisting of 1,000 draws from variant A’s distribution and 1,000 draws from variant B’s distribution. These draws comprise the “test dataset.”\n",
        "3. To isolate the impact of the decision-making approach, both companies analyze the same A/B test dataset.\n",
        "4. Each company will choose either A or B based on the test dataset.\n",
        "5. After choosing a variant, each company launches its preferred variant “at scale” to its entire customer base. We will simulate this step by generating 100,000 draws from each company’s chosen distribution. These draws represent the revenue received from each company’s 100,000 customers.\n",
        "6. The business objective is to maximize the total revenue, so we will evaluate each company’s decision-making policy based on each company's total revenue when it releases its preferred variant at scale.\n",
        "\n",
        "Now let’s get into the Python implementation. The full implementation is available on: https://github.com/tbuffington7/a-tale-of-two-companies/blob/main/simulation.ipynb . I encourage readers to experiment with it to understand how different decision-making frameworks lead to different business outcomes.\n",
        "\n",
        "First, we need to write a function that generates random skewed distribution. I chose log-normal distributions as they are a common model for skewed data.\n",
        "\n",
        "Recall that if a variable x has a log-normal distribution, log(x) has a normal distribution. I find it intuitive to characterize the parameters of the log-normal distribution based on the mean (mu) and the standard deviation (sigma) of the underlying normal distribution.\n",
        "\n",
        "In this function, we randomly draw mu from a uniform distribution between 0 and 0.5 and draw sigma from a uniform distribution between 1 and 1.5:"
      ],
      "metadata": {
        "id": "7LRbn41foHMp"
      }
    },
    {
      "cell_type": "code",
      "source": [
        "import numpy as np\n",
        "from scipy import stats\n",
        "from tqdm import tqdm\n",
        "np.random.seed(777)\n",
        "#generate a random log-normal distribution\n",
        "def generate_random_lognorm(mu_min=0, mu_max=0.5, sigma_min=1, sigma_max=1.5):\n",
        "  mu_random = np.random.uniform(mu_min,mu_max)\n",
        "  sigma_random = np.random.uniform(sigma_min,sigma_max)\n",
        "  random_distribution = stats.lognorm(s=sigma_random,scale=np.exp(mu_random))\n",
        "  return(random_distribution)\n",
        "\n",
        "# #generate N different distributions\n",
        "# distributions = []\n",
        "# x = np.linspace(0,10,400)\n",
        "# for _ in range(5):\n",
        "#   distribution = generate_random_lognorm()\n",
        "#   plt.plot(x,distribution.pdf(x))\n",
        "# plt.show()\n",
        "\n",
        "# #generate 1000 samples of two random distributions\n",
        "# def generate_plt(x):\n",
        "#   plt.xlabel(\"revenue per customer\")\n",
        "#   plt.ylabel(\"count\")\n",
        "#   plt.xlim(0,100)\n",
        "#   plt.ylim(0,1000)\n",
        "#   plt.hist(x,np.linspace(0,100,20))\n",
        "\n",
        "# dist1 = generate_random_lognorm()\n",
        "# x1 = dist1.rvs(1000)\n",
        "# plt.subplot(1,2,1)\n",
        "# generate_plt(x1)\n",
        "\n",
        "# dist2 = generate_random_lognorm()\n",
        "# x2 = dist2.rvs(1000)\n",
        "# plt.subplot(1,2,2)\n",
        "# generate_plt(x2)\n",
        "\n",
        "#Running 5000 simulations\n",
        "def decide_by_mean(data_sample_1,data_sample_2):\n",
        "  if np.mean(data_sample_1) >= np.mean(data_sample_2):\n",
        "    return(\"Distribution_1\")\n",
        "  else:\n",
        "    return(\"Distribution_2\")\n",
        "\n",
        "def decide_by_median(data_sample_1,data_sample_2):\n",
        "  if np.median(data_sample_1) >= np.median(data_sample_2):\n",
        "    return(\"Distribution_1\")\n",
        "  else:\n",
        "    return(\"Distribution_2\")\n",
        "\n",
        "num_of_simulations = 5000\n",
        "num_draws_at_scale = 100000\n",
        "num_samples = 1000\n",
        "company_policy = {'Mean':decide_by_mean,\n",
        "                  'Median':decide_by_median}\n",
        "companies = list(company_policy.keys())\n",
        "selections = {company:[] for company in companies}\n",
        "rewards = {company:[] for company in companies}\n",
        "for i in tqdm(range(num_of_simulations)):\n",
        "  dist1 = generate_random_lognorm()\n",
        "  dist2 = generate_random_lognorm()\n",
        "\n",
        "  x1 = dist1.rvs(num_samples)\n",
        "  x2 = dist2.rvs(num_samples)\n",
        "\n",
        "  for company in companies:\n",
        "    chosen_distribution = company_policy[company](x1,x2)\n",
        "    selections[company].append(chosen_distribution)\n",
        "    if chosen_distribution == 'Distribution_1':\n",
        "      reward = np.sum(dist1.rvs(num_draws_at_scale))\n",
        "    else:\n",
        "      reward = np.sum(dist2.rvs(num_draws_at_scale))\n",
        "    rewards[company].append(reward)\n",
        "\n",
        "# #plot distribution of total reveniew (PDF)\n",
        "# for company in companies:\n",
        "#   plt.hist(rewards[company],bins=20,histtype='step',label=company)\n",
        "# plt.xlabel(\"Total reveniew\")\n",
        "# plt.ylabel(\"Density\")\n",
        "# plt.legend()\n",
        "\n",
        "# how much agreement between Mean and Median\n",
        "mask = [a==b for a,b in zip(selections['Mean'],selections['Median'])]\n",
        "print(\"Agreement rate: {}%\".format(np.sum(mask)/num_of_simulations * 100))\n",
        "# when there is disagreement, how often is Mean better\n",
        "mask2 = [mean >= median for m,(mean,median) in zip(mask,zip(rewards['Mean'],rewards['Median'])) if m==False]\n",
        "print(\"Mean win when disagree: {}%\".format(round(np.sum(mask2) / len(mask2) * 100,2)))"
      ],
      "metadata": {
        "colab": {
          "base_uri": "https://localhost:8080/"
        },
        "id": "3CO8LFmxE0Xn",
        "outputId": "04437158-1c58-4a34-f126-343c417b3a10"
      },
      "execution_count": 173,
      "outputs": [
        {
          "output_type": "stream",
          "name": "stderr",
          "text": [
            "100%|██████████| 5000/5000 [01:07<00:00, 74.21it/s]\n"
          ]
        }
      ]
    },
    {
      "cell_type": "code",
      "source": [],
      "metadata": {
        "colab": {
          "base_uri": "https://localhost:8080/"
        },
        "id": "gnSaNrqLuZUh",
        "outputId": "15ad3eea-63a3-4498-e496-be5221013689"
      },
      "execution_count": 196,
      "outputs": [
        {
          "output_type": "stream",
          "name": "stdout",
          "text": [
            "Agreement rate: 71.48%\n",
            "Mean win when disagree: 87.94%\n"
          ]
        }
      ]
    },
    {
      "cell_type": "code",
      "source": [
        "# generate 10000 samples of a uniform distribution\n",
        "import numpy as np\n",
        "import scipy.stats as stats\n",
        "from matplotlib import pyplot as plt\n",
        "\n",
        "x = np.random.uniform(0,10,1000)\n",
        "plt.hist(x, bins=20)"
      ],
      "metadata": {
        "colab": {
          "base_uri": "https://localhost:8080/",
          "height": 586
        },
        "id": "a9HhkhC34Qjd",
        "outputId": "20f5d401-8fc2-43b4-a1ff-a3baf03846b3"
      },
      "execution_count": 48,
      "outputs": [
        {
          "output_type": "execute_result",
          "data": {
            "text/plain": [
              "(array([62., 46., 47., 43., 55., 52., 46., 60., 47., 49., 59., 41., 54.,\n",
              "        49., 43., 37., 46., 56., 46., 62.]),\n",
              " array([9.96872220e-03, 5.08100725e-01, 1.00623273e+00, 1.50436473e+00,\n",
              "        2.00249673e+00, 2.50062874e+00, 2.99876074e+00, 3.49689274e+00,\n",
              "        3.99502475e+00, 4.49315675e+00, 4.99128875e+00, 5.48942075e+00,\n",
              "        5.98755276e+00, 6.48568476e+00, 6.98381676e+00, 7.48194877e+00,\n",
              "        7.98008077e+00, 8.47821277e+00, 8.97634478e+00, 9.47447678e+00,\n",
              "        9.97260878e+00]),\n",
              " <BarContainer object of 20 artists>)"
            ]
          },
          "metadata": {},
          "execution_count": 48
        },
        {
          "output_type": "display_data",
          "data": {
            "text/plain": [
              "<Figure size 640x480 with 1 Axes>"
            ],
            "image/png": "[encoded data removed]"
          },
          "metadata": {}
        }
      ]
    },
    {
      "cell_type": "code",
      "source": [
        "# generate 1000 samples from a Gaussian distributions and plot\n",
        "import numpy as np\n",
        "from scipy import stats\n",
        "from matplotlib import pyplot as plt\n",
        "\n",
        "x = np.random.normal(0,10,1000)\n",
        "y = np.random.normal(0,1,1000)\n",
        "\n",
        "plt.hist(x,color=\"red\")\n",
        "plt.hist(y,color=\"blue\")"
      ],
      "metadata": {
        "colab": {
          "base_uri": "https://localhost:8080/",
          "height": 517
        },
        "id": "sQU7Q3jo1zeS",
        "outputId": "06ccdcdf-d21e-49c3-c953-9d40589397bf"
      },
      "execution_count": 91,
      "outputs": [
        {
          "output_type": "execute_result",
          "data": {
            "text/plain": [
              "(array([  6.,  25.,  74., 162., 221., 204., 179.,  94.,  28.,   7.]),\n",
              " array([-3.03772489, -2.43496637, -1.83220785, -1.22944933, -0.6266908 ,\n",
              "        -0.02393228,  0.57882624,  1.18158476,  1.78434328,  2.3871018 ,\n",
              "         2.98986032]),\n",
              " <BarContainer object of 10 artists>)"
            ]
          },
          "metadata": {},
          "execution_count": 91
        },
        {
          "output_type": "display_data",
          "data": {
            "text/plain": [
              "<Figure size 640x480 with 1 Axes>"
            ],
            "image/png": "[encoded data removed]"
          },
          "metadata": {}
        }
      ]
    },
    {
      "cell_type": "code",
      "source": [
        "from scipy import stats\n",
        "t = -1.32\n",
        "print(stats.t.cdf(t,df=11))\n",
        "print(stats.t.ppf(0.95,df=11)) # the inverse of CDF\n"
      ],
      "metadata": {
        "colab": {
          "base_uri": "https://localhost:8080/"
        },
        "id": "VLIcyVmLCgI4",
        "outputId": "0dec8f7c-256f-46c5-8d96-31b9e1ee85ab"
      },
      "execution_count": 8,
      "outputs": [
        {
          "output_type": "stream",
          "name": "stdout",
          "text": [
            "0.10682233239922606\n",
            "1.7958848187036691\n"
          ]
        }
      ]
    },
    {
      "cell_type": "code",
      "source": [
        "#generate 1000 random samples of normal distribution\n",
        "from scipy import stats\n",
        "from matplotlib import pyplot as plt\n",
        "import numpy as np\n",
        "\n",
        "mean=0\n",
        "std=1\n",
        "normal_dist = stats.norm(mean,std)\n",
        "\n",
        "print(\"Probability to get 1.96 is: {}\".format(normal_dist.pdf(1.96)))\n",
        "print(\"Probability to be less than 1.96 is: {}\".format(normal_dist.cdf(1.96)))\n",
        "\n",
        "y = np.linspace(-5,5,1000)\n",
        "plt.plot(y,normal_dist.pdf(y),color=\"r\")\n",
        "plt.xlabel('x vals')\n",
        "plt.ylabel('Probability')\n",
        "plt.title('Actual PDF of Normal distribution')\n",
        "plt.show()\n",
        "\n",
        "normal_dist.random_state=10\n",
        "x = normal_dist.rvs(1000)\n",
        "\n",
        "plt.hist(x,bins=25)\n",
        "plt.xlabel(\"x value\")\n",
        "plt.ylabel(\"frequency\")\n",
        "plt.title(\"Random sampling PDF of Normal distribution\")\n",
        "plt.show()"
      ],
      "metadata": {
        "colab": {
          "base_uri": "https://localhost:8080/",
          "height": 962
        },
        "id": "_YzIOVAe93cD",
        "outputId": "4d1c0ba0-f3f9-43d0-e68a-d884fb24685b"
      },
      "execution_count": 89,
      "outputs": [
        {
          "output_type": "stream",
          "name": "stdout",
          "text": [
            "Probability to get 1.96 is: 0.058440944333451476\n",
            "Probability to be less than 1.96 is: 0.9750021048517795\n"
          ]
        },
        {
          "output_type": "display_data",
          "data": {
            "text/plain": [
              "<Figure size 640x480 with 1 Axes>"
            ],
            "image/png": "[encoded data removed]"
          },
          "metadata": {}
        },
        {
          "output_type": "display_data",
          "data": {
            "text/plain": [
              "<Figure size 640x480 with 1 Axes>"
            ],
            "image/png": "[encoded data removed]"
          },
          "metadata": {}
        }
      ]
    },
    {
      "cell_type": "code",
      "source": [
        "import numpy as np\n",
        "from matplotlib import pyplot as plt\n",
        "\n",
        "np.random.seed(100)\n",
        "# a = [np.random.randint(100) for i in range(10)]\n",
        "b = np.random.randint(0,100,30)\n",
        "# print(a)\n",
        "print(b)\n",
        "print(np.mean(b))\n",
        "print(np.std(b))\n",
        "\n",
        "arr = []\n",
        "for i in range(10000):\n",
        "  sample = np.random.choice(b,15)\n",
        "  arr.append(np.mean(sample))\n",
        "\n",
        "plt.hist(arr,bins=100)\n",
        "plt.ylim(1,1000)\n",
        "plt.xlabel(\"mean\")\n",
        "plt.ylabel('count')"
      ],
      "metadata": {
        "colab": {
          "base_uri": "https://localhost:8080/",
          "height": 542
        },
        "id": "1gwaxr6UtFuP",
        "outputId": "124c0f78-a723-48b4-b189-f4b25adb90f4"
      },
      "execution_count": 49,
      "outputs": [
        {
          "output_type": "stream",
          "name": "stdout",
          "text": [
            "[ 8 24 67 87 79 48 10 94 52 98 53 66 98 14 34 24 15 60 58 16  9 93 86  2\n",
            " 27  4 31  1 13 83]\n",
            "45.13333333333333\n",
            "32.87018236774613\n"
          ]
        },
        {
          "output_type": "execute_result",
          "data": {
            "text/plain": [
              "Text(0, 0.5, 'count')"
            ]
          },
          "metadata": {},
          "execution_count": 49
        },
        {
          "output_type": "display_data",
          "data": {
            "text/plain": [
              "<Figure size 640x480 with 1 Axes>"
            ],
            "image/png": "[encoded data removed]"
          },
          "metadata": {}
        }
      ]
    },
    {
      "cell_type": "code",
      "source": [
        "from scipy import stats\n",
        "df = 24\n",
        "t = -2.5\n",
        "print(stats.t.cdf(t,df)) #calc p-value based on t-score\n",
        "print(stats.t.ppf(0.95,df)) #calc t-score based on p-value (quantile)\n",
        "print(stats.norm.cdf(1.96)) # clac p-value based on z-score\n",
        "print(stats.norm.ppf(0.98)) #calc z-score based on p-value (quantile)"
      ],
      "metadata": {
        "colab": {
          "base_uri": "https://localhost:8080/"
        },
        "id": "T4yzVvIEFp-b",
        "outputId": "4ed1a399-a47c-4e9a-ca41-7062a0af7a6a"
      },
      "execution_count": 26,
      "outputs": [
        {
          "output_type": "stream",
          "name": "stdout",
          "text": [
            "0.009827087558289377\n",
            "1.7108820799094275\n",
            "0.9750021048517795\n",
            "2.0537489106318225\n"
          ]
        }
      ]
    },
    {
      "cell_type": "code",
      "source": [
        "from scipy import stats\n",
        "df = 5\n",
        "t = 2.75\n",
        "print(stats.t.cdf(t,df))\n",
        "print(stats.norm.cdf(1.83))\n",
        "print(stats.norm.ppf(0.995))"
      ],
      "metadata": {
        "colab": {
          "base_uri": "https://localhost:8080/"
        },
        "id": "MdnKSsEJRel2",
        "outputId": "7181b268-9e87-4972-addf-3bf588d06271"
      },
      "execution_count": 6,
      "outputs": [
        {
          "output_type": "stream",
          "name": "stdout",
          "text": [
            "0.9798448887299873\n",
            "0.9663750305803717\n",
            "2.5758293035489004\n"
          ]
        }
      ]
    },
    {
      "cell_type": "code",
      "source": [
        "from scipy import stats\n",
        "print(stats.chi2.cdf(11.44,5))"
      ],
      "metadata": {
        "colab": {
          "base_uri": "https://localhost:8080/"
        },
        "id": "NuZugbosxEex",
        "outputId": "ada3b28d-0a53-4252-8ffa-97b38e9721a7"
      },
      "execution_count": 4,
      "outputs": [
        {
          "output_type": "stream",
          "name": "stdout",
          "text": [
            "0.9566787520573562\n"
          ]
        }
      ]
    },
    {
      "cell_type": "code",
      "source": [
        "# self made example of linear regression model - sample function - Y = 3*x + 2\n",
        "from matplotlib import pyplot as plt\n",
        "import numpy as np\n",
        "np.random.seed(100)\n",
        "x = np.random.rand(100) *10\n",
        "y = [xi * np.random.normal(3,0.5) + np.random.normal(2,0.2) for xi in x]\n",
        "\n",
        "epochs = 300000\n",
        "lr = 0.0001\n",
        "a = 0\n",
        "b = 0\n",
        "error = 0\n",
        "for epoch in range(epochs):\n",
        "  y_pred = x*a + b\n",
        "  diff = y_pred - y\n",
        "  cost_a = 2.0/len(x) * np.sum(diff * x)\n",
        "  cost_b = 2.0/len(x) * np.sum(diff)\n",
        "  a = a - lr*cost_a\n",
        "  b = b - lr*cost_b\n",
        "  if epoch % 10000 == 0:\n",
        "    print(\"function is: y = {}x + {}\".format(a,b))\n",
        "print(\"FINAL function is: y = {}x + {}\".format(a,b))"
      ],
      "metadata": {
        "colab": {
          "base_uri": "https://localhost:8080/"
        },
        "id": "VcxySyCOqNfW",
        "outputId": "04355ffc-b127-44a5-c47c-61b8162987d1"
      },
      "execution_count": 56,
      "outputs": [
        {
          "output_type": "stream",
          "name": "stdout",
          "text": [
            "function is: y = 0.020761759957998338x + 0.00329769864581652\n",
            "function is: y = 3.2207417108416525x + 1.0657527775291957\n",
            "function is: y = 3.1703988117879756x + 1.389871611011369\n",
            "function is: y = 3.1408446137136132x + 1.5801481422486632\n",
            "function is: y = 3.1234945873894038x + 1.691851488674798\n",
            "function is: y = 3.1133091168618807x + 1.7574278239257102\n",
            "function is: y = 3.107329655624856x + 1.7959249315104346\n",
            "function is: y = 3.1038193654926056x + 1.8185249637738894\n",
            "function is: y = 3.1017586218362574x + 1.8317924919170212\n",
            "function is: y = 3.100548845932506x + 1.8395812995158984\n",
            "function is: y = 3.0998386373955116x + 1.8441537807767527\n",
            "function is: y = 3.099421703842399x + 1.8468380921575966\n",
            "function is: y = 3.0991769396940465x + 1.8484139384384861\n",
            "function is: y = 3.0990332489599415x + 1.84933905149307\n",
            "function is: y = 3.098948894175115x + 1.8498821464472825\n",
            "function is: y = 3.0988993730298047x + 1.8502009746465224\n",
            "function is: y = 3.0988703012487835x + 1.8503881452689839\n",
            "function is: y = 3.0988532344292152x + 1.8504980252670291\n",
            "function is: y = 3.0988432152174568x + 1.850562531191163\n",
            "function is: y = 3.0988373333597483x + 1.85060039990542\n",
            "function is: y = 3.0988338803685442x + 1.8506226310343914\n",
            "function is: y = 3.0988318532626766x + 1.850635681994925\n",
            "function is: y = 3.0988306632341036x + 1.8506433436647975\n",
            "function is: y = 3.098829964618394x + 1.8506478415088472\n",
            "function is: y = 3.0988295544905022x + 1.8506504820038627\n",
            "function is: y = 3.0988293137216703x + 1.8506520321273958\n",
            "function is: y = 3.09882917237642x + 1.8506529421397124\n",
            "function is: y = 3.0988290893985697x + 1.850653476369653\n",
            "function is: y = 3.098829040685764x + 1.8506537899935809\n",
            "function is: y = 3.0988290120885256x + 1.8506539741089931\n",
            "FINAL function is: y = 3.098828995301561x + 1.8506540821872157\n"
          ]
        }
      ]
    }
  ]
}